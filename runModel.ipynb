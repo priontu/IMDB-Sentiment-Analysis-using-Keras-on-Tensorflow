{
  "nbformat": 4,
  "nbformat_minor": 0,
  "metadata": {
    "colab": {
      "provenance": [],
      "mount_file_id": "1rHqQ5psaEUcBVdvUr9VQTQkv2Z2tyqZh",
      "authorship_tag": "ABX9TyNz6+sbWC0Sn2MFNyq0uQPh",
      "include_colab_link": true
    },
    "kernelspec": {
      "name": "python3",
      "display_name": "Python 3"
    },
    "language_info": {
      "name": "python"
    },
    "accelerator": "GPU",
    "gpuClass": "standard"
  },
  "cells": [
    {
      "cell_type": "markdown",
      "metadata": {
        "id": "view-in-github",
        "colab_type": "text"
      },
      "source": [
        "<a href=\"https://colab.research.google.com/github/priontu/IMDB-Sentiment-Analysis-using-Keras-on-Tensorflow/blob/main/runModel.ipynb\" target=\"_parent\"><img src=\"https://colab.research.google.com/assets/colab-badge.svg\" alt=\"Open In Colab\"/></a>"
      ]
    },
    {
      "cell_type": "code",
      "execution_count": null,
      "metadata": {
        "colab": {
          "base_uri": "https://localhost:8080/"
        },
        "id": "iYbHSoQSQv2b",
        "outputId": "efc73e0c-8eb8-4cf5-b329-79a9c3234d5c"
      },
      "outputs": [
        {
          "output_type": "stream",
          "name": "stdout",
          "text": [
            "Drive already mounted at /content/gdrive; to attempt to forcibly remount, call drive.mount(\"/content/gdrive\", force_remount=True).\n",
            "No GPU was detected. LSTMs and CNNs can be very slow without a GPU.\n",
            "Go to Runtime > Change runtime and select a GPU hardware accelerator.\n",
            "1/1 [==============================] - 3s 3s/step\n",
            "[[0.34557506]\n",
            " [0.5007533 ]\n",
            " [0.33309123]\n",
            " [0.46981934]\n",
            " [0.7498407 ]]\n",
            "  Reviews                                             Original Label  \\\n",
            "0  b\"There are films that make careers. For Georg...  1                \n",
            "1  b\"A blackly comic tale of a down-trodden pries...  1                \n",
            "2  b'Scary Movie 1-4, Epic Movie, Date Movie, Mee...  0                \n",
            "3  b'Poor Shirley MacLaine tries hard to lend som...  0                \n",
            "4  b'As a former Erasmus student I enjoyed this f...  1                \n",
            "\n",
            "   Positive_Predicted_Probability  Negative_Predicted_Probability  \n",
            "0  0.345575                        0.654425                        \n",
            "1  0.500753                        0.499247                        \n",
            "2  0.333091                        0.666909                        \n",
            "3  0.469819                        0.530181                        \n",
            "4  0.749841                        0.250159                        \n"
          ]
        }
      ],
      "source": [
        "from google.colab import drive\n",
        "drive.mount('/content/gdrive')\n",
        "\n",
        "# Python ≥3.5 is required\n",
        "import sys\n",
        "assert sys.version_info >= (3, 5)\n",
        "\n",
        "# Is this notebook running on Colab or Kaggle?\n",
        "IS_COLAB = \"google.colab\" in sys.modules\n",
        "IS_KAGGLE = \"kaggle_secrets\" in sys.modules\n",
        "\n",
        "if IS_COLAB:\n",
        "    %pip install -q -U tensorflow-addons\n",
        "    %pip install -q -U transformers\n",
        "\n",
        "# Scikit-Learn ≥0.20 is required\n",
        "import sklearn\n",
        "assert sklearn.__version__ >= \"0.20\"\n",
        "\n",
        "# TensorFlow ≥2.0 is required\n",
        "import tensorflow as tf\n",
        "from tensorflow import keras\n",
        "assert tf.__version__ >= \"2.0\"\n",
        "\n",
        "if not tf.config.list_physical_devices('GPU'):\n",
        "    print(\"No GPU was detected. LSTMs and CNNs can be very slow without a GPU.\")\n",
        "    if IS_COLAB:\n",
        "        print(\"Go to Runtime > Change runtime and select a GPU hardware accelerator.\")\n",
        "    if IS_KAGGLE:\n",
        "        print(\"Go to Settings > Accelerator and select GPU.\")\n",
        "\n",
        "# Common imports\n",
        "import numpy as np\n",
        "import os\n",
        "import pandas as pd\n",
        "\n",
        "pd.set_option(\"display.colheader_justify\",\"left\")\n",
        "\n",
        "# to make this notebook's output stable across runs\n",
        "np.random.seed(42)\n",
        "tf.random.set_seed(42)\n",
        "\n",
        "# To plot pretty figures\n",
        "%matplotlib inline\n",
        "import matplotlib as mpl\n",
        "import matplotlib.pyplot as plt\n",
        "mpl.rc('axes', labelsize=14)\n",
        "mpl.rc('xtick', labelsize=12)\n",
        "mpl.rc('ytick', labelsize=12)\n",
        "\n",
        "import tensorflow_datasets as tfds\n",
        "from collections import Counter\n",
        "\n",
        "# Where to save the figures\n",
        "PROJECT_ROOT_DIR = \".\"\n",
        "CHAPTER_ID = \"nlp\"\n",
        "IMAGES_PATH = os.path.join(PROJECT_ROOT_DIR, \"images\", CHAPTER_ID)\n",
        "os.makedirs(IMAGES_PATH, exist_ok=True)\n",
        "\n",
        "def save_fig(fig_id, tight_layout=True, fig_extension=\"png\", resolution=300):\n",
        "    path = os.path.join(IMAGES_PATH, fig_id + \".\" + fig_extension)\n",
        "    print(\"Saving figure\", fig_id)\n",
        "    if tight_layout:\n",
        "        plt.tight_layout()\n",
        "    plt.savefig(path, format=fig_extension, dpi=resolution)\n",
        "\n",
        "def preprocess(X_batch, y_batch):\n",
        "    X_batch = tf.strings.substr(X_batch, 0, 300)\n",
        "    X_batch = tf.strings.regex_replace(X_batch, rb\" \", b\" \")\n",
        "    X_batch = tf.strings.regex_replace(X_batch, b\"[^a-zA-Z']\", b\" \")\n",
        "    X_batch = tf.strings.split(X_batch)\n",
        "    return X_batch.to_tensor(default_value=b\"\"), y_batch\n",
        "\n",
        "def preprocess_and_predict(test_data, defined_eval_size = 50):\n",
        "  test_size = defined_eval_size\n",
        "  datasets, info = tfds.load(\"imdb_reviews\", as_supervised=True, with_info=True)\n",
        "  vocabulary = Counter()\n",
        "  for X_batch, y_batch in datasets[\"train\"].batch(32).map(preprocess):\n",
        "      for review in X_batch:\n",
        "          vocabulary.update(list(review.numpy()))\n",
        "\n",
        "  vocab_size = 10000\n",
        "  truncated_vocabulary = [\n",
        "      word for word, count in vocabulary.most_common()[:vocab_size]]\n",
        "\n",
        "  word_to_id = {word: index for index, word in enumerate(truncated_vocabulary)}\n",
        "  # for word in b\"This movie was faaaaaantastic\".split():\n",
        "  #     print(word_to_id.get(word) or vocab_size)\n",
        "\n",
        "  words = tf.constant(truncated_vocabulary)\n",
        "  word_ids = tf.range(len(truncated_vocabulary), dtype=tf.int64)\n",
        "  vocab_init = tf.lookup.KeyValueTensorInitializer(words, word_ids)\n",
        "  num_oov_buckets = 4000\n",
        "  table = tf.lookup.StaticVocabularyTable(vocab_init, num_oov_buckets)  \n",
        "\n",
        "  def encode_words(X_batch, y_batch):\n",
        "        return table.lookup(X_batch), y_batch\n",
        "\n",
        "  # train_set = datasets[\"train\"].batch(32).map(preprocess).map(encode_words).prefetch(1)\n",
        "  # valid_set = datasets[\"test\"].batch(32).map(preprocess).map(encode_words).prefetch(1)\n",
        "\n",
        "  test_pipe = test_data.batch(test_size).map(preprocess).map(encode_words).prefetch(1)\n",
        "  \n",
        "  model = keras.models.load_model('/content/gdrive/MyDrive/Colab Notebooks/IMDB_Sentiment_Analysis_Model.h5')\n",
        "\n",
        "  review_list = list()\n",
        "  pred_list = list()\n",
        "\n",
        "  for feats, labs in test_pipe.unbatch().batch(test_size).take(1):\n",
        "    probPreds = model.predict(feats)\n",
        "  print(probPreds)\n",
        "\n",
        "  for review, label in test_data.batch(test_size).take(1):\n",
        "    pass\n",
        "\n",
        "  positive_review_predicted_probability = probPreds\n",
        "  negative_review_predicted_probability = 1 - probPreds\n",
        "\n",
        "  # print(review)\n",
        "  # print(label)\n",
        "  # print(list(tf.transpose(positive_review_predicted_probability)))\n",
        "  # print(negative_review_predicted_probability)\n",
        "\n",
        "  review_df = pd.Series(review, dtype = object)\n",
        "  review_df.name = \"Reviews\"\n",
        "  label_df = pd.Series(label)\n",
        "  label_df.name = \"Original Label\"\n",
        "  pos_probs_df = pd.Series(list(tf.transpose(positive_review_predicted_probability))[0])\n",
        "  pos_probs_df.name = \"Positive_Predicted_Probability\"\n",
        "  neg_probs_df = pd.Series(list(tf.transpose(negative_review_predicted_probability))[0])\n",
        "  neg_probs_df.name = \"Negative_Predicted_Probability\"\n",
        "  res = pd.concat([review_df, label_df, pos_probs_df, neg_probs_df], axis = 1)\n",
        "\n",
        "  print(res)\n",
        "\n",
        "datasets, info = tfds.load(\"imdb_reviews\", as_supervised=True, with_info=True)\n",
        "# print(datasets)\n",
        "# X_train, y_train = datasets[\"train\"]\n",
        "# X_test, y_test = datasets[\"test\"]\n",
        "\n",
        "# X_test = np.concatenate([x for x, y in datasets['test'].batch(10).take(1)], axis=0)\n",
        "\n",
        "\n",
        "# print(info.splits['unsupervised'].num_examples)\n",
        "\n",
        "preprocess_and_predict(datasets['test'], defined_eval_size = 20)\n",
        "\n",
        "\n"
      ]
    },
    {
      "cell_type": "code",
      "source": [
        "X_test, y_test = datasets['test'].batch(2).take(2)\n",
        "X_test"
      ],
      "metadata": {
        "id": "brZw-PqKj97D"
      },
      "execution_count": null,
      "outputs": []
    },
    {
      "cell_type": "code",
      "source": [
        "\n",
        "\n",
        "for X_batch, y_batch in datasets[\"train\"].batch(2).take(1):\n",
        "    for review, label in zip(X_batch.numpy(), y_batch.numpy()):\n",
        "        print(\"Review:\", review.decode(\"utf-8\")[:200], \"...\")\n",
        "        print(\"Label:\", label, \"= Positive\" if label else \"= Negative\")\n",
        "        print()"
      ],
      "metadata": {
        "id": "aYclG9wcl5oN"
      },
      "execution_count": null,
      "outputs": []
    },
    {
      "cell_type": "code",
      "source": [
        "y_test"
      ],
      "metadata": {
        "id": "LveM1XDElf2H"
      },
      "execution_count": null,
      "outputs": []
    },
    {
      "cell_type": "code",
      "source": [
        "\n",
        "for X_batch, y_batch in datasets[\"unsupervised\"].batch(10).take(1):\n",
        "    for review, label in zip(X_batch.numpy(), y_batch.numpy()):\n",
        "        print(\"Review:\", review.decode(\"utf-8\")[:200], \"...\")\n",
        "        print(\"Label:\", label, \"= Positive\" if label else \"= Negative\")\n",
        "        print()\n",
        "        \n",
        "def run_model(dataset):\n",
        "  model = keras.models.load_model('/content/gdrive/MyDrive/Colab Notebooks/IMDB_Sentiment_Analysis_Model.h5')\n",
        "  for X_batch, y_batch in dataset.batch(10).take(1):\n",
        "    for review, label in zip(X_batch.numpy(), y_batch.numpy()):\n",
        "        print(\"Review:\", review.decode(\"utf-8\")[:200], \"...\")\n",
        "        print(\"Original Label: \", label)\n",
        "        # print(\"Label:\", label, \"= Positive\" if label else \"= Negative\")\n",
        "        predict_val = model.predict()\n",
        "        print(\"Positive Review Probability: \", predict_val)\n",
        "        print(\"Negative Review Probability: \", 1 - predict_val)\n",
        "\n",
        "        print()\n",
        "\n",
        "run_model(X_test_pipe)\n"
      ],
      "metadata": {
        "colab": {
          "base_uri": "https://localhost:8080/",
          "height": 741
        },
        "id": "BeX9X9-OwiNZ",
        "outputId": "bc1c1f31-d15c-4368-bc06-9c67834693ed"
      },
      "execution_count": null,
      "outputs": [
        {
          "output_type": "stream",
          "name": "stdout",
          "text": [
            "Review: SPOILER - Now knowing the ending I find it so clever that the whole movie takes place in a motel and each character has a different room. Even sane people have many different aspects to their personal ...\n",
            "Label: -1 = Positive\n",
            "\n",
            "Review: I knew about this film long before I saw it. In fact, I had to buy the DVD in order to see it because no video store carried it. I didn't mind spending the $12 to buy it used because I collect off the ...\n",
            "Label: -1 = Positive\n",
            "\n",
            "Review: This movie is really really awful. It's as bad as Zombie 90 well maybe not that bad but pretty close. If your a fan of the Italian horror movies then you might like this movie. I thought that it was d ...\n",
            "Label: -1 = Positive\n",
            "\n",
            "Review: Wait a minute... yes I do.<br /><br />The director of 'The Breed' has obviously seen Terry Gilliam's 'Brazil' a few too many times and asked himself the question, \"If 'Brazil' had been an ill-conceive ...\n",
            "Label: -1 = Positive\n",
            "\n",
            "Review: This is the type of movie that's just barely involving enough for one viewing, but I don't think I could stand to watch it again. It looks and plays like a mid-Seventies TV movie, only with some gratu ...\n",
            "Label: -1 = Positive\n",
            "\n",
            "Review: I like Sci-Fi movies and everything 'bout it and aliens, so i watched this flick. Nothing new, nothing special, average acting, typical H. B. Davenport' story, weak and cheesy FX's, bad ending of movi ...\n",
            "Label: -1 = Positive\n",
            "\n",
            "Review: I was lucky enough to see a preview of this film tonight. This was a very cool, eerie film. Well acted, especially by Skarsgard who played his role of Terry Glass perfectly. Sobieski did a very good j ...\n",
            "Label: -1 = Positive\n",
            "\n",
            "Review: My kids and I love this movie!! We think that Richard Pryor and the whole cast did a wonderful job in the movie. It means more to us now since the passing of Richard!! WE will miss his sense of humor. ...\n",
            "Label: -1 = Positive\n",
            "\n",
            "Review: Somehow the Animatrix shorts with the most interesting premises have the worst outcome. Matriculated is the worst of the bunch (although it's a close call with Program), as it takes a great idea (show ...\n",
            "Label: -1 = Positive\n",
            "\n",
            "Review: While holidaying in the Basque region of Spain, two couples discover a child whose hands are severely misshapen. The child has been gravely mistreated, and, as a result, cannot communicate. The two co ...\n",
            "Label: -1 = Positive\n",
            "\n"
          ]
        },
        {
          "output_type": "error",
          "ename": "NameError",
          "evalue": "ignored",
          "traceback": [
            "\u001b[0;31m---------------------------------------------------------------------------\u001b[0m",
            "\u001b[0;31mNameError\u001b[0m                                 Traceback (most recent call last)",
            "\u001b[0;32m<ipython-input-20-1ab75cb6d5aa>\u001b[0m in \u001b[0;36m<module>\u001b[0;34m\u001b[0m\n\u001b[1;32m     18\u001b[0m         \u001b[0mprint\u001b[0m\u001b[0;34m(\u001b[0m\u001b[0;34m)\u001b[0m\u001b[0;34m\u001b[0m\u001b[0;34m\u001b[0m\u001b[0m\n\u001b[1;32m     19\u001b[0m \u001b[0;34m\u001b[0m\u001b[0m\n\u001b[0;32m---> 20\u001b[0;31m \u001b[0mrun_model\u001b[0m\u001b[0;34m(\u001b[0m\u001b[0mX_test_pipe\u001b[0m\u001b[0;34m)\u001b[0m\u001b[0;34m\u001b[0m\u001b[0;34m\u001b[0m\u001b[0m\n\u001b[0m",
            "\u001b[0;31mNameError\u001b[0m: name 'X_test_pipe' is not defined"
          ]
        }
      ]
    }
  ]
}